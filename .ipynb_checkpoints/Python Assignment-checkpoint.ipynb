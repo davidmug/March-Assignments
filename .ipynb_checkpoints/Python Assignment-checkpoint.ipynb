{
 "cells": [
  {
   "cell_type": "markdown",
   "metadata": {},
   "source": [
    "*Question One:* _List Comprehension_"
   ]
  },
  {
   "cell_type": "code",
   "execution_count": 1,
   "metadata": {},
   "outputs": [
    {
     "name": "stdout",
     "output_type": "stream",
     "text": [
      "[1, 9, 25, 49, 81, 121, 169, 225, 289, 361]\n"
     ]
    }
   ],
   "source": [
    "# Write a python program that outputs the squares of odd numbers from range of 1 and 20\n",
    "\n",
    "odd_numbers=[1,3,5,7,9,11,13,15,17,19]\n",
    "\n",
    "squares=[x*x for x in odd_numbers if x%2!=0]\n",
    "\n",
    "print(squares)"
   ]
  },
  {
   "cell_type": "markdown",
   "metadata": {},
   "source": [
    "*Question Two:* _Integers_"
   ]
  },
  {
   "cell_type": "code",
   "execution_count": 12,
   "metadata": {},
   "outputs": [
    {
     "name": "stdout",
     "output_type": "stream",
     "text": [
      "Yes\n"
     ]
    }
   ],
   "source": [
    "# Write a program to check whether the given integer is a multiple of 5_\n",
    "\n",
    "number=55\n",
    "\n",
    "if number % 5 == 0:\n",
    "    print(\"Yes\")\n",
    "else: \n",
    "    print(\"No\")"
   ]
  },
  {
   "cell_type": "code",
   "execution_count": 13,
   "metadata": {},
   "outputs": [
    {
     "name": "stdout",
     "output_type": "stream",
     "text": [
      "enter a number: 5\n",
      "Yes\n"
     ]
    }
   ],
   "source": [
    " num=int(input(\"enter a number: \"))\n",
    "    \n",
    "if number % 5 == 0:\n",
    "    print(\"Yes\")\n",
    "else:\n",
    "    print(\"No\")"
   ]
  },
  {
   "cell_type": "markdown",
   "metadata": {},
   "source": [
    "*Question Three*: _If Statement_"
   ]
  },
  {
   "cell_type": "code",
   "execution_count": 27,
   "metadata": {},
   "outputs": [
    {
     "name": "stdout",
     "output_type": "stream",
     "text": [
      "55 is not a prime number\n"
     ]
    }
   ],
   "source": [
    "# Write a program python program to check whether the given integer is a prime number or not\n",
    "\n",
    "Age=55\n",
    "        \n",
    "        \n",
    "if Age > 1:\n",
    "    for i in range(2, number):\n",
    "        if (Age % i) == 0:\n",
    "            print(number, \"is not a prime number\")\n",
    "            break\n",
    "    else:\n",
    "        print(number, \"is a prime number\")\n",
    "\n",
    "        \n",
    "else:\n",
    "    print(number, \"is not a prime number\")"
   ]
  },
  {
   "cell_type": "markdown",
   "metadata": {},
   "source": [
    "*Question Four:* _User-defined Functions_"
   ]
  },
  {
   "cell_type": "code",
   "execution_count": null,
   "metadata": {},
   "outputs": [],
   "source": [
    "# Write a program to implement a calculator to do basic operations (+,-,*,/)\n",
    "\n",
    "#create a loop in the program\n",
    "while True:\n",
    "#Print calculator options for user to choose\n",
    "    print(\"1. Add \")      \n",
    "    print(\"2. Subtract\")\n",
    "    print(\"3. Multiply\")\n",
    "    print(\"4. Divide\")  \n",
    "#Ask user for input\n",
    "    Operation = int(input(\"Choose an operation: \"))\n",
    "\n",
    "    x = int(input(\"Enter the first number: \"))\n",
    "    y = int(input(\"Enter the second number: \"))\n",
    "#Check if user input is equal to 1\n",
    "    if Operation == 1:\n",
    "        def Add(a, b): # a function to add two integers\n",
    "            return a + b\n",
    "        z = Add(x,y)  \n",
    "        print(z)\n",
    "        print(\"WOULD YOU LIKE TO DO ANOTHER CALCULATION? ENTER 1 FOR YES OR 2 FOR NO\")\n",
    "    elif Operation == 2: #Check if user input is equal to 2\n",
    "        def minus(x, y): # a function to minus two integers\n",
    "            return x-y\n",
    "        z = minus(x,y)\n",
    "        print(z)\n",
    "        print(\"WOULD YOU LIKE TO DO ANOTHER CALCULATION? ENTER 1 FOR YES OR 2 FOR NO\")\n",
    "    elif Operation == 3: #Check if user input is equal to 3\n",
    "        def multiply(x,y):# a function to multiply two integers\n",
    "            return x*y\n",
    "        z = multiply(x,y)\n",
    "        print(z)\n",
    "        print(\"WOULD YOU LIKE TO DO ANOTHER CALCULATION? ENTER 1 FOR YES OR 2 FOR NO\")\n",
    "    elif Operation == 4: #Check if user input is equal to 4\n",
    "        def divide(x,y): # a function to multiply two integers\n",
    "            return x/y\n",
    "        z = divide(x,y)\n",
    "        print(z)\n",
    "        print(\"WOULD YOU LIKE TO DO ANOTHER CALCULATION? ENTER 1 FOR YES OR 2 FOR NO\")\n",
    "    else: print(\" INVALID OPERATOR!!!, WOULD YOU LIKE TO REPEAT THE OPERATION? ENTER 1 FOR YES OR 2 FOR NO\")\n",
    "    answer = int(input(\"ENTER RESPONSE: \"))\n",
    "    if answer == 2:# if the user input is equal to 2 then end the program otherwise loop through the program\n",
    "        break"
   ]
  },
  {
   "cell_type": "markdown",
   "metadata": {},
   "source": [
    "*Question Five:* _Dictionaries & For Loop_"
   ]
  },
  {
   "cell_type": "code",
   "execution_count": 65,
   "metadata": {},
   "outputs": [
    {
     "data": {
      "text/plain": [
       "{'Brand': 'Mercedes', 'Model': 'GLE450', 'Year': '2022'}"
      ]
     },
     "execution_count": 65,
     "metadata": {},
     "output_type": "execute_result"
    }
   ],
   "source": [
    "# Create a simple dictionary and write a program to print all the items in your dictionary \n",
    "\n",
    "car={\"Brand\":\"Mercedes\",\n",
    "     \"Model\":\"GLE450\",\n",
    "     \"Year\":\"2022\"}\n",
    "\n",
    "car"
   ]
  },
  {
   "cell_type": "code",
   "execution_count": null,
   "metadata": {},
   "outputs": [],
   "source": []
  }
 ],
 "metadata": {
  "interpreter": {
   "hash": "1e4af7d8341c13d568efc1f8500c9e0239c4d10084c4659a417b8b188748b437"
  },
  "kernelspec": {
   "display_name": "Python 3 (ipykernel)",
   "language": "python",
   "name": "python3"
  },
  "language_info": {
   "codemirror_mode": {
    "name": "ipython",
    "version": 3
   },
   "file_extension": ".py",
   "mimetype": "text/x-python",
   "name": "python",
   "nbconvert_exporter": "python",
   "pygments_lexer": "ipython3",
   "version": "3.9.7"
  }
 },
 "nbformat": 4,
 "nbformat_minor": 2
}
